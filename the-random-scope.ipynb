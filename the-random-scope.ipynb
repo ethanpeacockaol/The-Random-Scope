{
 "cells": [
  {
   "cell_type": "markdown",
   "id": "ae15a307-21ee-4e9e-8fd6-f05295c32ab3",
   "metadata": {},
   "source": [
    "# The Random Scope\n",
    "\n",
    "This is a tool to visualize the consistency (or lack of) of running distributions of data\n",
    "\n",
    "It can be used for many things but we will constrain this example of it to viewing the numpy randint function\n",
    "\n",
    "demo:\n",
    "\n",
    "![demo](scoped.gif)"
   ]
  },
  {
   "cell_type": "code",
   "execution_count": 82,
   "id": "81969a07-aa4f-40be-b0fc-7bb52336dc44",
   "metadata": {},
   "outputs": [],
   "source": [
    "class random_scope:\n",
    "    import matplotlib.pyplot as plt\n",
    "    import numpy as np\n",
    "    import time\n",
    "    from PIL import Image\n",
    "    import os\n",
    "\n",
    "    def __init__(self, seconds_to_scrape, scrape_how_many, number_range, num_frames, frame_folder, gif_name):\n",
    "        '''\n",
    "        seconds_to_scrape: int -> when do we trigger a scrape?\n",
    "        scrape_how_many: int -> how many do you want to scrape off the top each time?\n",
    "        number_range: [list] -> the lower bound(inclusive) and outerbound(exclusive) of range of random ints\n",
    "        num_frames: int -> how many pictures do you want to generate for your animation?\n",
    "        '''\n",
    "        self.last_x = []\n",
    "        self.secondstoscrape = seconds_to_scrape\n",
    "        self.scrapehowmany = scrape_how_many\n",
    "        self.numberrange = number_range\n",
    "        self.numframes = num_frames\n",
    "        self.scopedattime = []\n",
    "        self.scopeontime = time.time()\n",
    "        self.framestorage = frame_folder\n",
    "        self.gifname = gif_name\n",
    "\n",
    "    def randint_scope(self):\n",
    "\n",
    "        random_list = []\n",
    "        go = True\n",
    "        start_time = time.time()\n",
    "        frame_count = 0\n",
    "        while go:\n",
    "            random_list.append(np.random.randint(self.numberrange[0], self.numberrange[1]))\n",
    "            elapsed_time = time.time() - start_time\n",
    "            if  elapsed_time >= self.secondstoscrape:\n",
    "                self.last_x.append(random_list[-self.scrapehowmany:])\n",
    "                frame_count += 1\n",
    "                self.scopedattime.append(time.time())\n",
    "                start_time = time.time()\n",
    "                print(f\"SCOPING:frame{frame_count} of frame{self.numframes} done\")\n",
    "                \n",
    "            if frame_count == self.numframes:\n",
    "                go = False\n",
    "            \n",
    "\n",
    "    def scope_target(self):\n",
    "        x_axis = [x for x in range(self.scrapehowmany)]\n",
    "        frame_count = 0\n",
    "        time_index = 0\n",
    "        for last in self.last_x:\n",
    "            plt.title(f\"The random scope (scoped at time: {self.scopedattime[time_index] - self.scopeontime}\")\n",
    "            time_index += 1\n",
    "            plt.bar(x_axis, last)\n",
    "            plt.savefig(f\"Scoped/{frame_count}.png\")\n",
    "            plt.close()\n",
    "            frame_count += 1\n",
    "\n",
    "    def paint_target(self):\n",
    "        print('Hey copy the gemini code for gif creation into a class function below')"
   ]
  },
  {
   "cell_type": "markdown",
   "id": "f788b228-ce95-4e63-a524-f477ab87d351",
   "metadata": {},
   "source": [
    "## Lets buiild a scope and point it and numpy's nprandint between 0 and 100 last 20 randoms every 2 seconds running"
   ]
  },
  {
   "cell_type": "code",
   "execution_count": 83,
   "id": "66df561d-705c-4b88-8fb0-6ee7607ef5c9",
   "metadata": {},
   "outputs": [
    {
     "name": "stdout",
     "output_type": "stream",
     "text": [
      "SCOPING:frame1 of frame5 done\n",
      "SCOPING:frame2 of frame5 done\n",
      "SCOPING:frame3 of frame5 done\n",
      "SCOPING:frame4 of frame5 done\n",
      "SCOPING:frame5 of frame5 done\n",
      "Hey copy the gemini code for gif creation into a class function below\n"
     ]
    }
   ],
   "source": [
    "# dial scope\n",
    "everyseconds = 2\n",
    "numtoscrape = 20\n",
    "nrange = [0,100]\n",
    "nframes = 5\n",
    "framefolder = \"Scoped\"\n",
    "gifname = \"randintScoped.gif\"\n",
    "\n",
    "# add scope with dial settings above\n",
    "new_scope = random_scope(everyseconds, numtoscrape, nrange, nframes, framefolder, gifname)\n",
    "# set scope to randint filter\n",
    "new_scope.randint_scope()\n",
    "# scope target\n",
    "new_scope.scope_target()\n",
    "# look through scope\n",
    "duration_mils = 150\n",
    "new_scope.paint_target()"
   ]
  },
  {
   "cell_type": "markdown",
   "id": "8dc44c18-9059-48a7-a3f7-1ee02b2d8d49",
   "metadata": {},
   "source": [
    "### Gemini code to turn image frames into a gif we can render in the notebook"
   ]
  },
  {
   "cell_type": "code",
   "execution_count": 84,
   "id": "3ff47645-ea21-42e3-a6ab-d32467065cda",
   "metadata": {},
   "outputs": [
    {
     "name": "stdout",
     "output_type": "stream",
     "text": [
      "GIF successfully created at: scoped.gif\n"
     ]
    }
   ],
   "source": [
    "from PIL import Image\n",
    "import os\n",
    "\n",
    "def paint_target(self, image_folder, output_gif_path, duration=100):\n",
    "    \"\"\"\n",
    "    Creates a GIF from a sequence of image files in a folder.\n",
    "\n",
    "    Args:\n",
    "        image_folder (str): Path to the folder containing the image frames.\n",
    "        output_gif_path (str): Path to save the generated GIF file.\n",
    "        duration (int): Duration of each frame in milliseconds (default: 100ms).\n",
    "    \"\"\"\n",
    "    frames = []\n",
    "    image_files = sorted([f for f in os.listdir(image_folder) if f.endswith(('.png', '.jpg', '.jpeg'))])\n",
    "\n",
    "    if not image_files:\n",
    "        print(f\"No image files found in: {image_folder}\")\n",
    "        return\n",
    "\n",
    "    for filename in image_files:\n",
    "        img_path = os.path.join(image_folder, filename)\n",
    "        try:\n",
    "            frame = Image.open(img_path)\n",
    "            frames.append(frame)\n",
    "        except Exception as e:\n",
    "            print(f\"Error opening image {img_path}: {e}\")\n",
    "            return\n",
    "\n",
    "    if frames:\n",
    "        try:\n",
    "            frames[0].save(\n",
    "                output_gif_path,\n",
    "                save_all=True,\n",
    "                append_images=frames[1:],\n",
    "                duration=duration,\n",
    "                loop=0  # Loop indefinitely\n",
    "            )\n",
    "            print(f\"GIF successfully created at: {output_gif_path}\")\n",
    "        except Exception as e:\n",
    "            print(f\"Error saving GIF: {e}\")\n",
    "    else:\n",
    "        print(\"No valid image frames to create a GIF.\")\n",
    "\n",
    "if __name__ == \"__main__\":\n",
    "    image_folder = \"Scoped\"  # Replace with the actual path to your image folder\n",
    "    output_gif = \"scoped.gif\"  # Replace with your desired output GIF filename\n",
    "    frame_duration = 150  # Adjust the duration (in milliseconds) per frame\n",
    "\n",
    "    # Create a dummy image_frames folder and some sample images for testing\n",
    "    if not os.path.exists(image_folder):\n",
    "        os.makedirs(image_folder)\n",
    "        try:\n",
    "            from PIL import ImageDraw\n",
    "            for i in range(3):\n",
    "                img = Image.new('RGB', (100, 100), color=(i * 50, i * 50, 255 - i * 50))\n",
    "                draw = ImageDraw.Draw(img)\n",
    "                draw.text((30, 40), str(i + 1), fill=(255, 255, 255))\n",
    "                img.save(os.path.join(image_folder, f\"frame_{i+1}.png\"))\n",
    "            print(f\"Created dummy images in '{image_folder}' for testing.\")\n",
    "        except ImportError:\n",
    "            print(\"Please install Pillow (PIL) to create dummy images for testing.\")\n",
    "\n",
    "    create_gif(image_folder, output_gif, frame_duration)"
   ]
  },
  {
   "cell_type": "markdown",
   "id": "a3bfc733-f7f7-456b-9e44-0f6e433424cd",
   "metadata": {},
   "source": [
    "# A Random Scope pointed at Numpy's np.randint on the time disertion of 2 seconds\n",
    "\n",
    "This turns on an indefinite loop to populate with numpy's nprandint between 0 and 100\n",
    "\n",
    "every two seconds (user scope defined parameter) it scrapes the last 20 (user defined) and renders visibility through the random scope class"
   ]
  },
  {
   "cell_type": "markdown",
   "id": "256f90ac-fe1d-4c00-b9ff-3f85d5efae29",
   "metadata": {},
   "source": [
    "![test](scoped.gif)"
   ]
  },
  {
   "cell_type": "markdown",
   "id": "ac3626e9-25ba-415e-86b9-002f3ea52a44",
   "metadata": {},
   "source": [
    "<hr>"
   ]
  }
 ],
 "metadata": {
  "kernelspec": {
   "display_name": "Python 3 (ipykernel)",
   "language": "python",
   "name": "python3"
  },
  "language_info": {
   "codemirror_mode": {
    "name": "ipython",
    "version": 3
   },
   "file_extension": ".py",
   "mimetype": "text/x-python",
   "name": "python",
   "nbconvert_exporter": "python",
   "pygments_lexer": "ipython3",
   "version": "3.9.6"
  }
 },
 "nbformat": 4,
 "nbformat_minor": 5
}
